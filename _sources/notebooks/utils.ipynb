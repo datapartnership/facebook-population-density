{
 "cells": [
  {
   "cell_type": "code",
   "execution_count": null,
   "metadata": {},
   "outputs": [],
   "source": [
    "# install GIS UTILS\n",
    "# !pip install -i https://test.pypi.org/simple/ gis-utils-pkg-dillhicks==0.0.2"
   ]
  },
  {
   "cell_type": "code",
   "execution_count": 21,
   "metadata": {},
   "outputs": [],
   "source": [
    "from tqdm import tqdm\n",
    "from shapely.geometry import Point, Polygon\n",
    "import matplotlib.pyplot as plt\n",
    "import pandas as pd\n",
    "import geopandas as gpd\n",
    "import fiona\n",
    "import os\n",
    "import earthpy as et\n",
    "import earthpy.plot as ep\n",
    "import earthpy.spatial as es\n",
    "import rasterio\n",
    "from rasterio.mask import mask\n",
    "from gis_utils import raster"
   ]
  },
  {
   "cell_type": "code",
   "execution_count": null,
   "metadata": {},
   "outputs": [],
   "source": [
    "def shp_lookup(shp_dir, search_prop, query):\n",
    "    \"\"\"\n",
    "    function that returns name of shapefile (.shp) associated with a particualar field\n",
    "    If looking for shp by city, use\n",
    "\n",
    "    Args:\n",
    "        shp_dir : str\n",
    "            location of shapefiles to be searched\n",
    "        \n",
    "        search_prop : str\n",
    "            field to search for in shapefiles\n",
    "            (city: 'NAME_2')\n",
    "            (region/state: 'NAME_1')\n",
    "        \n",
    "        query : str\n",
    "            string to be searched for i.e. 'Delhi'\n",
    "\n",
    "    Returns:\n",
    "        str : filename of shapefile\n",
    "    \"\"\"\n",
    "    for filename in os.listdir(shp_dir):\n",
    "        if filename.endswith(\".shp\"):\n",
    "            with fiona.open(shp_dir + filename) as src:\n",
    "                if src[0]['properties'][search_prop] == query:\n",
    "                    return filename\n",
    "    return \"No shapefile exists\""
   ]
  },
  {
   "cell_type": "code",
   "execution_count": 1,
   "metadata": {},
   "outputs": [],
   "source": [
    "def crop_raster(raster_path, vector_path, out_dir, name=None):\n",
    "    \"\"\"\n",
    "    Crop large single band raster (.tif) given shapefile (.shp) within \n",
    "    bounds of raster. NOT optimized for iteration with multiple vector \n",
    "    files, large raster should only be loaded once if creating many \n",
    "    cropped images.\n",
    "    \n",
    "    Args:\n",
    "        raster_path : str\n",
    "            location of large raster to be cropped (.tif)\n",
    "        \n",
    "        vector_path : str\n",
    "            location of shapefile to crop around (.shp) \n",
    "            (city: 'NAME_2')\n",
    "            (region/state: 'NAME_1')\n",
    "        \n",
    "        out_dir : str\n",
    "            directory to write cropped file to. i.e. \"../out/dir/\"\n",
    "        \n",
    "        name : str\n",
    "            name of new file, else will use vector_path with .tif extension\n",
    "\n",
    "    Returns:\n",
    "        str : filename of cropped file\n",
    "        \"\"\"\n",
    "    \n",
    "    # check for proper file extensions\n",
    "    if raster_path[-4:] != \".tif\":\n",
    "        print(\"ERROR: No files written or opened, raster must be (.tif)\")\n",
    "        return \"ERROR: see console\"\n",
    "    if vector_path[-4:] != \".shp\":\n",
    "        print(\"ERROR: No files written or opened, vector must be (.shp)\")\n",
    "        return \"ERROR: see console\"\n",
    "    \n",
    "    # specify path to write image\n",
    "    if name is None:\n",
    "        base = os.path.basename(raster_path)\n",
    "        base = base.replace(\".tif\", \".shp\")\n",
    "        out_path = os.path.join(out_dir, base)\n",
    "        \n",
    "    # read vector file (.shp)\n",
    "    shp_file = gpd.read_file(vector_path)\n",
    "    \n",
    "    # Crop raster using vector file\n",
    "    with rasterio.open(raster_fp) as src:\n",
    "        cropped_raster, meta = es.crop_image(src, shp_file)\n",
    "\n",
    "    # Save cropped raster\n",
    "    with rasterio.open(out_path, 'w', **meta) as dst:\n",
    "        dst.write(cropped_raster)\n",
    "    \n",
    "    return "
   ]
  },
  {
   "cell_type": "code",
   "execution_count": 17,
   "metadata": {},
   "outputs": [],
   "source": [
    "## Masking raster with shapefile\n",
    "\n",
    "# read shapefile\n",
    "vec_fp = \"../../shapefiles/regions/NAME_2_383.shp\" # Firozpur\n",
    "shapefile = gpd.read_file(vec_fp)\n",
    "\n",
    "# extract the geometry in GeoJSON format\n",
    "geoms = shapefile.geometry.values # list of shapely geometries\n",
    "geometry = geoms[0] # shapely geometry\n",
    "\n",
    "# transform to GeJSON format\n",
    "from shapely.geometry import mapping\n",
    "geoms = [mapping(geoms[0])]"
   ]
  },
  {
   "cell_type": "code",
   "execution_count": 23,
   "metadata": {},
   "outputs": [],
   "source": [
    "# extract the raster values values within the polygon \n",
    "with rasterio.open(raster_fp) as src:\n",
    "     out_image, out_transform = mask(src, geoms, crop=True)"
   ]
  },
  {
   "cell_type": "code",
   "execution_count": null,
   "metadata": {},
   "outputs": [],
   "source": []
  }
 ],
 "metadata": {
  "kernelspec": {
   "display_name": "Python 3",
   "language": "python",
   "name": "python3"
  },
  "language_info": {
   "codemirror_mode": {
    "name": "ipython",
    "version": 3
   },
   "file_extension": ".py",
   "mimetype": "text/x-python",
   "name": "python",
   "nbconvert_exporter": "python",
   "pygments_lexer": "ipython3",
   "version": "3.8.2"
  }
 },
 "nbformat": 4,
 "nbformat_minor": 4
}
