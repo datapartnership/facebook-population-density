{
 "cells": [
  {
   "cell_type": "code",
   "execution_count": 1,
   "metadata": {},
   "outputs": [],
   "source": [
    "import numpy as np\n",
    "import pandas as pd\n",
    "import shapefile as shp\n",
    "import matplotlib.pyplot as plt\n",
    "from mpl_toolkits.basemap import Basemap\n",
    "from mpl_toolkits.mplot3d import Axes3D"
   ]
  },
  {
   "cell_type": "code",
   "execution_count": 2,
   "metadata": {},
   "outputs": [],
   "source": [
    "# Read in Shapefile\n",
    "shp_path = \"shapefiles/India_Districts_ADM2_GADM.shp\"\n",
    "sf = shp.Reader(shp_path)"
   ]
  },
  {
   "cell_type": "code",
   "execution_count": 3,
   "metadata": {},
   "outputs": [],
   "source": [
    "def read_shapefile(sf):\n",
    "    \"\"\"\n",
    "    Read a shapefile into a Pandas dataframe\n",
    "    \n",
    "    Args:\n",
    "        sf: pyshp shapefile\n",
    "        \n",
    "    Returns:\n",
    "        df: Pandas dataframe with a 'coords' column\n",
    "    \"\"\"\n",
    "    fields = [x[0] for x in sf.fields][1:]\n",
    "    records = sf.records()\n",
    "    shps = [s.points for s in sf.shapes()]\n",
    "    df = pd.DataFrame(columns=fields, data=records)\n",
    "    df = df.assign(coords=shps)\n",
    "    \n",
    "    return df"
   ]
  },
  {
   "cell_type": "code",
   "execution_count": 4,
   "metadata": {},
   "outputs": [],
   "source": [
    "# Data Frame generated from our Shapefile\n",
    "df = read_shapefile(sf)"
   ]
  },
  {
   "cell_type": "code",
   "execution_count": 5,
   "metadata": {},
   "outputs": [],
   "source": [
    "def filter_dataframe(dataframe, search_col, query):\n",
    "    \"\"\"\n",
    "    Filters a pandas dataframe and returns a new dataframe based\n",
    "    on a query.\n",
    "    \n",
    "    Args:\n",
    "        dataframe : pandas dataframe\n",
    "            Unfiltered pandas dataframe.\n",
    "        \n",
    "        search_col : str\n",
    "            Column field we are filtering by.\n",
    "            ex. 'State/UnionTerritory' for covid_19_india.csv\n",
    "        \n",
    "        query : str\n",
    "            value to be searched for i.e. 'Tripura.'\n",
    "        \n",
    "    Returns:\n",
    "        dataframe : New dataframe filtered by the column field\n",
    "                    and query.\n",
    "    \"\"\"\n",
    "    conditional = dataframe[search_col] == query\n",
    "    filtered = dataframe[conditional]\n",
    "    \n",
    "    return filtered"
   ]
  },
  {
   "cell_type": "code",
   "execution_count": 6,
   "metadata": {},
   "outputs": [],
   "source": [
    "def extract_state_coordinates(state_df):\n",
    "    \"\"\"\n",
    "    Calculates the average coordinates for a state based on all\n",
    "    of its districts.\n",
    "    \n",
    "    Args:\n",
    "        state_df: A filtered dataframe containing all district entries\n",
    "                  for a given state.\n",
    "    Returns:\n",
    "        tuple:    A tuple containing the mean Longitude and Lattitude\n",
    "                  of a state\n",
    "    \"\"\"\n",
    "    # Reset the index to make iterating easier\n",
    "    state_df.reset_index(drop=True)\n",
    "    x0 = 0\n",
    "    y0 = 0\n",
    "    # Iterate through each district of the state\n",
    "    for i in range(state_df.shape[0]):\n",
    "        # District shape\n",
    "        shape_ex = sf.shape(state_df.index[i])\n",
    "        x_lon = np.zeros((len(shape_ex.points),1))\n",
    "        y_lat = np.zeros((len(shape_ex.points),1))\n",
    "        for ip in range(len(shape_ex.points)):\n",
    "            x_lon[ip] = shape_ex.points[ip][0]\n",
    "            y_lat[ip] = shape_ex.points[ip][1]\n",
    "        # Calculate the mean long and lat for each diistrict\n",
    "        x0 += np.mean(x_lon)/state_df.shape[0]\n",
    "        y0 += np.mean(y_lat)/state_df.shape[0]\n",
    "\n",
    "    # Return mean long and lat for the state\n",
    "    return x0, y0"
   ]
  },
  {
   "cell_type": "code",
   "execution_count": 7,
   "metadata": {},
   "outputs": [],
   "source": [
    "# Read in the CSV files into dataframes\n",
    "covid_df = pd.read_csv(\"covid_19_india.csv\")\n",
    "tests_df = pd.read_csv(\"StatewiseTestingDetails.csv\")\n",
    "\n",
    "# Filter the dataframes by date and reset the index\n",
    "covid_ft = filter_dataframe(covid_df, \"Date\", \"16/11/20\")\n",
    "covid_ft = covid_ft.reset_index(drop=True)\n",
    "tests_ft = filter_dataframe(tests_df, \"Date\", \"2020-11-15\")"
   ]
  },
  {
   "cell_type": "code",
   "execution_count": 8,
   "metadata": {},
   "outputs": [],
   "source": [
    "# Update the test_ft data frame to account for the edge cases\n",
    "Dadra = filter_dataframe(filter_dataframe(tests_df, \"State\", \"Dadra and Nagar Haveli and Daman and Diu\"),\"Date\", \"2020-10-20\")\n",
    "tests_ft = tests_ft.append(Dadra,ignore_index=True)\n",
    "Maharashtra = filter_dataframe(filter_dataframe(tests_df, \"State\", \"Maharashtra\"),\"Date\", \"2020-11-13\")\n",
    "tests_ft = tests_ft.append(Maharashtra,ignore_index=True)\n",
    "Manipur = filter_dataframe(filter_dataframe(tests_df, \"State\", \"Manipur\"),\"Date\", \"2020-11-14\")\n",
    "tests_ft = tests_ft.append(Manipur,ignore_index=True)\n",
    "Meghalaya = filter_dataframe(filter_dataframe(tests_df, \"State\", \"Meghalaya\"),\"Date\", \"2020-11-14\")\n",
    "tests_ft = tests_ft.append(Meghalaya,ignore_index=True)\n",
    "\n",
    "# Sort the updated dataframe by state and reset the index\n",
    "tests_ft = tests_ft.sort_values(by=['State'])\n",
    "tests_ft = tests_ft.reset_index(drop=True)"
   ]
  },
  {
   "cell_type": "code",
   "execution_count": 9,
   "metadata": {},
   "outputs": [],
   "source": [
    "# Numpy Arrays used to plot the histogram\n",
    "Lons = np.zeros(35, dtype=float)          # Longitudes\n",
    "Lats = np.zeros(35, dtype=float)          # Latitudes\n",
    "InfectionRatio = np.zeros(35, dtype=float) # Confirmed Cases / Test Results"
   ]
  },
  {
   "cell_type": "code",
   "execution_count": 10,
   "metadata": {},
   "outputs": [],
   "source": [
    "# Populate our arrays\n",
    "for i in range(35):\n",
    "    # Retrieve the shapefile\n",
    "    curr_state_name = tests_ft.iloc[i]['State']\n",
    "    # Deal with edge cases\n",
    "    if (curr_state_name == \"Andaman and Nicobar Islands\"):\n",
    "        curr_state_name = 'Andaman and Nicobar'\n",
    "    elif (curr_state_name == \"Dadra and Nagar Haveli and Daman and Diu\"):\n",
    "        curr_state_name = 'Dadra and Nagar Haveli'\n",
    "    elif (curr_state_name == \"Odisha\"):\n",
    "        curr_state_name = 'Orissa'\n",
    "    elif (curr_state_name == \"Uttarakhand\"):\n",
    "        curr_state_name = 'Uttaranchal'\n",
    "    elif ((curr_state_name == \"Ladakh\") or (curr_state_name == \"Telengana\")):\n",
    "        continue\n",
    "    curr_state_df = filter_dataframe(df, 'NAME_1', curr_state_name)\n",
    "    # Extract the coordinates\n",
    "    curr_coords = extract_state_coordinates(curr_state_df)\n",
    "    # Update our position arrays\n",
    "    Lons[i] = curr_coords[0]\n",
    "    Lats[i] = curr_coords[1]\n",
    "    # Calculate Infection Ratio\n",
    "    curr_ratio = covid_ft.iloc[i]['Confirmed'] / tests_ft.iloc[i]['TotalSamples']\n",
    "    # Update our Infection Array\n",
    "    InfectionRatio[i] = curr_ratio"
   ]
  },
  {
   "cell_type": "code",
   "execution_count": 11,
   "metadata": {},
   "outputs": [],
   "source": [
    "def three_dimensional_histogram(longitudes, latitudes, data, lbound, ubound):\n",
    "    \"\"\"\n",
    "    Creates and plots a 3D histogram plot, overlayed\n",
    "    on a map of India based on our data.\n",
    "    \n",
    "    Args:\n",
    "        longitudes: numpy array of floats\n",
    "        latitudes:  numpy array of floats\n",
    "        data:       numpy array of floats\n",
    "    Returns:\n",
    "        Void\n",
    "    \"\"\"\n",
    "    # Initializing and centering our map on India\n",
    "    map = Basemap(llcrnrlon=68.5,llcrnrlat=5.,urcrnrlon=99.5,urcrnrlat=36., lat_0 = 20.5, lon_0 = 84, fix_aspect=False)\n",
    "    \n",
    "    # Initializing the plot\n",
    "    fig = plt.figure()\n",
    "    ax = Axes3D(fig)\n",
    "    ax.set_autoscale_on(True)\n",
    "    ax.set_autoscalez_on(True)\n",
    "    ax.set_zbound(lower=lbound, upper=ubound)\n",
    "    \n",
    "    # Draw the coastline and the country\n",
    "    ax.add_collection3d(map.drawcoastlines(linewidth=0.25))\n",
    "    ax.add_collection3d(map.drawcountries(linewidth=0.35))\n",
    "    \n",
    "    x, y = map(longitudes, latitudes)\n",
    "    ax.bar3d(x,y, np.zeros(len(x)), 1, 1, data, color = 'r', alpha = 1.0)\n",
    "    plt.show()"
   ]
  },
  {
   "cell_type": "code",
   "execution_count": 12,
   "metadata": {
    "scrolled": true
   },
   "outputs": [
    {
     "data": {
      "image/png": "[encoded data removed]",
      "text/plain": [
       "<Figure size 432x288 with 1 Axes>"
      ]
     },
     "metadata": {},
     "output_type": "display_data"
    }
   ],
   "source": [
    "three_dimensional_histogram(Lons, Lats, InfectionRatio, 0.0, 0.6)"
   ]
  },
  {
   "cell_type": "code",
   "execution_count": null,
   "metadata": {},
   "outputs": [],
   "source": []
  }
 ],
 "metadata": {
  "kernelspec": {
   "display_name": "Python 3",
   "language": "python",
   "name": "python3"
  },
  "language_info": {
   "codemirror_mode": {
    "name": "ipython",
    "version": 3
   },
   "file_extension": ".py",
   "mimetype": "text/x-python",
   "name": "python",
   "nbconvert_exporter": "python",
   "pygments_lexer": "ipython3",
   "version": "3.9.0"
  }
 },
 "nbformat": 4,
 "nbformat_minor": 4
}
