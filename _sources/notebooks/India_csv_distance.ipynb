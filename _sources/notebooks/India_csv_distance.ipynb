{
 "cells": [
  {
   "cell_type": "markdown",
   "metadata": {},
   "source": [
    "# Pre-requirements\n",
    "#### 1. [Download](https://qgis.org/en/site/forusers/download.html) and install QGIS\n",
    "#### 2. A Shapefile\n",
    "+ The shapefile should end with the '.shp' extension\n",
    "\n",
    "# Instructions\n",
    "\n",
    "#### 1. Launch the QGIS Application\n",
    "#### 2. Click on the _New Empty Project_ panel\n",
    "+ This option is highlighted in red in the image below\n",
    "![](Steps\1.png)\n",
    "#### 3. Using the _Browser_ sidepanel, find and click on the desired Shapefile\n",
    "![](Steps\3.png)\n",
    "#### 4. Click on _Vector→Data Management Tools→Split Vector Layer..._\n",
    "![](Steps\4.png)\n",
    "#### 5. Configure the _Split Vector Layer_ tool settings and click _Run_\n",
    "+ **_Input layer_** specifies what Layer is being used to generate the files\n",
    "+ **_Unique ID field_** specifies the prefix for the generated files\n",
    "+ **_Output directory_** is the directory which will contain the generated files\n",
    "![](Steps\5.png)\n",
    "#### 6. Once the _Split Vector Layer_ tool finishes running, click on _Layer→Add Layer →Add Vector Layer..._\n",
    "![](Steps\6.png)\n",
    "#### 7. Configure the _Data Source Manager_ accordingly\n",
    "+ Ensure that it is under the _Vector_ tab is selected\n",
    "+ For the **_Source Type_** option, select _File_\n",
    "+ Under **_Source_** navigate and select the generated file(s)\n",
    "![](Steps\7.png)\n",
    "#### 8. The selected file(s) should now appear as a new layer\n",
    "![](Steps\8.png)"
   ]
  },
  {
   "cell_type": "code",
   "execution_count": null,
   "metadata": {},
   "outputs": [],
   "source": [
    "from haversine import haversine, Unit\n",
    "from shapely.geometry import Point, Polygon\n",
    "import matplotlib.pyplot as plt\n",
    "import csv\n",
    "import pandas as pd\n",
    "import geopandas as gpd\n",
    "import fiona\n",
    "import os\n",
    "import pprint\n",
    "\n",
    "%matplotlib inline"
   ]
  },
  {
   "cell_type": "code",
   "execution_count": null,
   "metadata": {},
   "outputs": [],
   "source": [
    "df = pd.read_csv('population_AS47_2018-10-01.csv')\n",
    "#df =  df.iloc[100000:]"
   ]
  },
  {
   "cell_type": "code",
   "execution_count": null,
   "metadata": {},
   "outputs": [],
   "source": [
    "india_shp = gpd.read_file(\"shapefiles/India_Districts_ADM2_GADM.shp\")"
   ]
  },
  {
   "cell_type": "code",
   "execution_count": null,
   "metadata": {},
   "outputs": [],
   "source": [
    "haversine(p1, p2, unit='in')"
   ]
  },
  {
   "cell_type": "code",
   "execution_count": null,
   "metadata": {},
   "outputs": [],
   "source": [
    "# find avg distance between consecutive points\n",
    "sum_dist = 0\n",
    "prev_pt = p1\n",
    "n = 10\n",
    "for i in range(1, n):\n",
    "    pt = (df['latitude'][i], df['longitude'][i])\n",
    "    dist =  haversine(prev_pt, pt, unit='in') / 12\n",
    "    print(dist, \" ft\")\n",
    "    sum_dist += dist\n",
    "    prev_pt = pt\n",
    "print(\"avg_dist in feet: \", sum_dist/(n-1))"
   ]
  },
  {
   "cell_type": "code",
   "execution_count": null,
   "metadata": {},
   "outputs": [],
   "source": [
    "# display shapefile\n",
    "fig, ax = plt.subplots(figsize=(15,15))\n",
    "india_shp.plot(ax = ax)"
   ]
  },
  {
   "cell_type": "code",
   "execution_count": null,
   "metadata": {},
   "outputs": [],
   "source": [
    "crs = {'init': 'epsg:4326'} # coordinate reference system (long, lat)\n",
    "df.head()"
   ]
  },
  {
   "cell_type": "code",
   "execution_count": null,
   "metadata": {},
   "outputs": [],
   "source": [
    "# converting lat and long in df to coordinate shapely Points \n",
    "geometry = [Point(xy) for xy in zip(df['longitude'], df['latitude'])]\n",
    "geometry[:3]"
   ]
  },
  {
   "cell_type": "code",
   "execution_count": null,
   "metadata": {},
   "outputs": [],
   "source": [
    "geo_df = gpd.GeoDataFrame(df, #dataset\n",
    "                          crs=crs, #coordinate system\n",
    "                          geometry=geometry) # specify geometry list\n",
    "geo_df.head()"
   ]
  },
  {
   "cell_type": "code",
   "execution_count": null,
   "metadata": {},
   "outputs": [],
   "source": [
    "# plot just a sliver of 18million points\n",
    "lil_geo_df = geo_df.iloc[10000:30000]"
   ]
  },
  {
   "cell_type": "code",
   "execution_count": null,
   "metadata": {
    "scrolled": false
   },
   "outputs": [],
   "source": [
    "fig, ax = plt.subplots(figsize=(15,15))\n",
    "india_shp.plot(ax = ax, alpha=0.4, color='grey')\n",
    "geo_df.plot(ax=ax, markersize=3, color='blue')"
   ]
  },
  {
   "cell_type": "code",
   "execution_count": null,
   "metadata": {},
   "outputs": [],
   "source": [
    "def shp_lookup(shp_dir, search_prop, query):\n",
    "    \"\"\"\n",
    "    function that returns name of shapefile (.shp) associated with a particualar field\n",
    "    If looking for shp by city, use\n",
    "\n",
    "    Args:\n",
    "        shp_dir : str\n",
    "            location of shapefiles to be searched\n",
    "        \n",
    "        search_prop : str\n",
    "            field to search for in shapefiles\n",
    "            (city: 'NAME_2')\n",
    "            (region/state: 'NAME_1')\n",
    "        \n",
    "        query : str\n",
    "            string to be searched for i.e. 'Delhi'\n",
    "\n",
    "    Returns:\n",
    "        str : filename of shapefile or None\n",
    "    \"\"\"\n",
    "    for filename in os.listdir(shp_dir):\n",
    "        if filename.endswith(\".shp\"):\n",
    "            with fiona.open(shp_dir + filename) as src:\n",
    "                if src[0]['properties'][search_prop] == query:\n",
    "                    return filename\n",
    "    return \"None\""
   ]
  },
  {
   "cell_type": "code",
   "execution_count": null,
   "metadata": {},
   "outputs": [],
   "source": [
    "shp_lookup(r'shapefiles/regions/', 'NAME_2', 'Delhi')"
   ]
  }
 ],
 "metadata": {
  "kernelspec": {
   "display_name": "Python 3",
   "language": "python",
   "name": "python3"
  },
  "language_info": {
   "codemirror_mode": {
    "name": "ipython",
    "version": 3
   },
   "file_extension": ".py",
   "mimetype": "text/x-python",
   "name": "python",
   "nbconvert_exporter": "python",
   "pygments_lexer": "ipython3",
   "version": "3.9.0"
  }
 },
 "nbformat": 4,
 "nbformat_minor": 4
}
